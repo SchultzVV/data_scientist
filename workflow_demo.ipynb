{
 "cells": [
  {
   "cell_type": "markdown",
   "metadata": {},
   "source": [
    "# Demonstra\u00e7\u00e3o de fluxo completo de Ci\u00eancia de Dados\n",
    "Este notebook acompanha as etapas descritas no README: EDA, benchmarking de modelos, constru\u00e7\u00e3o de features, uso de uma feature store simples, integra\u00e7\u00e3o com MLflow e uma simula\u00e7\u00e3o de CI/CD com deploy can\u00e1rio."
   ]
  },
  {
   "cell_type": "markdown",
   "metadata": {},
   "source": [
    "## 1. EDA"
   ]
  },
  {
   "cell_type": "code",
   "metadata": {},
   "source": [
    "import pandas as pd\n",
    "import numpy as np\n",
    "import matplotlib.pyplot as plt\n",
    "import seaborn as sns\n",
    "from scipy import stats\n",
    "from sklearn.datasets import load_wine"
   ],
   "execution_count": null,
   "outputs": []
  },
  {
   "cell_type": "code",
   "metadata": {},
   "source": [
    "data = load_wine()\n",
    "df = pd.DataFrame(data.data, columns=data.feature_names)\n",
    "df['target'] = data.target\n",
    "df.head()"
   ],
   "execution_count": null,
   "outputs": []
  },
  {
   "cell_type": "code",
   "metadata": {},
   "source": [
    "df.describe()"
   ],
   "execution_count": null,
   "outputs": []
  },
  {
   "cell_type": "code",
   "metadata": {},
   "source": [
    "sns.histplot(df['alcohol'], kde=True);\n",
    "plt.show()"
   ],
   "execution_count": null,
   "outputs": []
  },
  {
   "cell_type": "code",
   "metadata": {},
   "source": [
    "sns.pairplot(df.sample(100), hue='target');"
   ],
   "execution_count": null,
   "outputs": []
  },
  {
   "cell_type": "code",
   "metadata": {},
   "source": [
    "corr = df.corr()\n",
    "plt.figure(figsize=(10,8))\n",
    "sns.heatmap(corr, cmap='coolwarm');"
   ],
   "execution_count": null,
   "outputs": []
  },
  {
   "cell_type": "markdown",
   "metadata": {},
   "source": [
    "Verificando a ader\u00eancia \u00e0 distribui\u00e7\u00e3o Normal de uma feature."
   ]
  },
  {
   "cell_type": "code",
   "metadata": {},
   "source": [
    "stat, p = stats.normaltest(df['alcohol'])\n",
    "print('p-value', p)\n",
    "if p < 0.05:\n",
    "    print('Distribui\u00e7\u00e3o provavelmente n\u00e3o \u00e9 Normal')\n",
    "else:\n",
    "    print('Distribui\u00e7\u00e3o parece Normal')"
   ],
   "execution_count": null,
   "outputs": []
  },
  {
   "cell_type": "markdown",
   "metadata": {},
   "source": [
    "## 2. Benchmark e escolha de modelo"
   ]
  },
  {
   "cell_type": "code",
   "metadata": {},
   "source": [
    "from sklearn.model_selection import cross_val_score, train_test_split\n",
    "from sklearn.preprocessing import StandardScaler\n",
    "from sklearn.linear_model import LogisticRegression\n",
    "from sklearn.ensemble import RandomForestClassifier\n",
    "X = df.drop('target', axis=1)\n",
    "y = df['target']"
   ],
   "execution_count": null,
   "outputs": []
  },
  {
   "cell_type": "code",
   "metadata": {},
   "source": [
    "scaler = StandardScaler()\n",
    "X_scaled = scaler.fit_transform(X)\n",
    "lr = LogisticRegression(max_iter=1000)\n",
    "rf = RandomForestClassifier(random_state=42)\n",
    "lr_scores = cross_val_score(lr, X_scaled, y, cv=5)\n",
    "rf_scores = cross_val_score(rf, X, y, cv=5)\n",
    "print('LR mean accuracy:', lr_scores.mean())\n",
    "print('RF mean accuracy:', rf_scores.mean())"
   ],
   "execution_count": null,
   "outputs": []
  },
  {
   "cell_type": "markdown",
   "metadata": {},
   "source": [
    "## 3. Pipeline de features e Feature Store"
   ]
  },
  {
   "cell_type": "code",
   "metadata": {},
   "source": [
    "from sklearn.pipeline import Pipeline\n",
    "from sklearn.feature_selection import SelectKBest, f_classif\n",
    "feature_pipeline = Pipeline([\n",
    "    ('scale', StandardScaler()),\n",
    "    ('select', SelectKBest(score_func=f_classif, k=8))\n",
    "])\n",
    "X_features = feature_pipeline.fit_transform(X, y)\n",
    "pd.DataFrame(X_features).to_csv('feature_store.csv', index=False)\n",
    "X_features[:5]"
   ],
   "execution_count": null,
   "outputs": []
  },
  {
   "cell_type": "markdown",
   "metadata": {},
   "source": [
    "## 4. Integra\u00e7\u00e3o com MLflow"
   ]
  },
  {
   "cell_type": "code",
   "metadata": {},
   "source": [
    "import mlflow\n",
    "mlflow.set_experiment('wine_demo')\n",
    "with mlflow.start_run():\n",
    "    lr.fit(X_scaled, y)\n",
    "    acc = lr.score(X_scaled, y)\n",
    "    mlflow.log_metric('accuracy', acc)\n",
    "    mlflow.sklearn.log_model(lr, 'model')\n",
    "print('accuracy logged:', acc)"
   ],
   "execution_count": null,
   "outputs": []
  },
  {
   "cell_type": "markdown",
   "metadata": {},
   "source": [
    "## 5. CI/CD e Deploy Can\u00e1rio (simulado)"
   ]
  },
  {
   "cell_type": "code",
   "metadata": {},
   "source": [
    "import random\n",
    "def simulate_canary(old_metric, new_metric, threshold=0.02):\n",
    "    if new_metric + threshold < old_metric:\n",
    "        print('Can\u00e1rio falhou, iniciando rollback...')\n",
    "        return old_metric, False\n",
    "    else:\n",
    "        print('Novo modelo aprovado!')\n",
    "        return new_metric, True\n",
    "current_metric = lr_scores.mean()\n",
    "candidate_metric = current_metric - 0.05  # simula piora\n",
    "current_metric, ok = simulate_canary(current_metric, candidate_metric)\n",
    "if not ok:\n",
    "    candidate_metric = current_metric + 0.03  # nova vers\u00e3o melhor\n",
    "    current_metric, _ = simulate_canary(current_metric, candidate_metric)"
   ],
   "execution_count": null,
   "outputs": []
  }
 ],
 "metadata": {
  "kernelspec": {
   "display_name": "Python 3",
   "language": "python",
   "name": "python3"
  },
  "language_info": {
   "name": "python",
   "version": "3.11"
  }
 },
 "nbformat": 4,
 "nbformat_minor": 5
}
